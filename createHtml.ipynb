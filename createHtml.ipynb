{
 "cells": [
  {
   "cell_type": "code",
   "execution_count": 1,
   "metadata": {
    "collapsed": true
   },
   "outputs": [],
   "source": [
    "import os"
   ]
  },
  {
   "cell_type": "code",
   "execution_count": 2,
   "metadata": {
    "collapsed": true
   },
   "outputs": [],
   "source": [
    "html_body = \"\"\"<!DOCTYPE html>\n",
    "<html lang=\"es\">\n",
    "    <head>\n",
    "        <meta charset=\"utf-8\">\n",
    "        <meta http-equiv=\"X-UA-Compatible\" content=\"IE=edge\">\n",
    "        <meta name=\"viewport\" content=\"width=device-width, initial-scale=1\">\n",
    "        <title>| Radios</title>\n",
    "        \n",
    "        <!-- Bootstrap CSS -->\n",
    "        <link rel=\"stylesheet\" href=\"./bootstrap-3.3.7-dist/css/bootstrap.min.css\">\n",
    "        <!-- Personal CSS -->\n",
    "        <link rel=\"stylesheet\" href=\"./css/main.css\">\n",
    "        <!-- Jquerry -->\n",
    "        <script src=\"https://code.jquery.com/jquery-3.1.1.min.js\"></script>\n",
    "    </head>\n",
    "\n",
    "    <body>\n",
    "        <div class=\"streaming\">\n",
    "            <audio id=\"streamingControls\" src=\"http://94.23.40.42:8046/;stream.aac\" controls=\"controls\" preload=\"none\">\n",
    "            </audio>\n",
    "        </div>\n",
    "        \n",
    "        <div class=\"container\">\n",
    "        {0}\n",
    "        </div><!--/container -->\n",
    "        \n",
    "        <footer id=\"footer\">\n",
    "          <h2 class=\"header-hidden\">Footer</h2>\n",
    "\n",
    "          <div class=\"footer section\">\n",
    "            <div class=\"container\" style=\"padding-top: 30px;\">\n",
    "              <div class=\"footer-texto\">\n",
    "\n",
    "            <a rel=\"license\" href=\"http://creativecommons.org/licenses/by/4.0/\"><img alt=\"Creative Commons License\" style=\"border-width:0\" src=\"https://i.creativecommons.org/l/by/4.0/88x31.png\" /></a><br />This work is licensed under a <a rel=\"license\" href=\"http://creativecommons.org/licenses/by/4.0/\">Creative Commons Attribution 4.0 International License</a>.\n",
    "\n",
    "            <p></> with <i class=\"fa fa-heart\" aria-hidden=\"true\"></i> by <a href=\"http://twitter.com/fnbellomo\" target=\"_blank\">@fnbellomo</a></p>\n",
    "              </div><!--/footer-texto -->\n",
    "\n",
    "            </div><!--/container -->\n",
    "          </div><!--/footer section-->\n",
    "        </footer>\n",
    "        \n",
    "        <script>\n",
    "            var audio = document.getElementById(\"streamingControls\");\n",
    "            audio.addEventListener('error', function failed(e) {{\n",
    "               // audio playback failed - show a message saying why\n",
    "               // to get the source of the audio element use $(this).src\n",
    "               switch (e.target.error.code) {{\n",
    "                 case e.target.error.MEDIA_ERR_ABORTED:\n",
    "                   alert('You aborted the video playback.');\n",
    "                   break;\n",
    "                 case e.target.error.MEDIA_ERR_NETWORK:\n",
    "                   alert('A network error caused the audio download to fail.');\n",
    "                   break;\n",
    "                 case e.target.error.MEDIA_ERR_DECODE:\n",
    "                   alert('The audio playback was aborted due to a corruption problem or because the video used features your browser did not support.');\n",
    "                   break;\n",
    "                 case e.target.error.MEDIA_ERR_SRC_NOT_SUPPORTED:\n",
    "                   alert('The video audio not be loaded, either because the server or network failed or because the format is not supported.');\n",
    "                   break;\n",
    "                 default:\n",
    "                   alert('An unknown error occurred.');\n",
    "                   break;\n",
    "               }}\n",
    "             }}, true);\n",
    "        \n",
    "            var oldRadio = \"\";\n",
    "\n",
    "            function playRadio(streaming, radioName) {{\n",
    "                // Update the page title with the radio name\n",
    "                document.title = radioName + \" | Radios\";\n",
    "\n",
    "                // Play the radio\n",
    "                var audio = document.getElementById(\"streamingControls\");\n",
    "                audio.src = streaming;\n",
    "                audio.play();\n",
    "                \n",
    "                // Add img-active class\n",
    "                var image = document.getElementById(radioName);\n",
    "                image.className = \"img-responsive box-img img-active\";\n",
    "              \n",
    "                // Remove img-active class to old radio play\n",
    "                if (oldRadio) {{\n",
    "                    var image = document.getElementById(oldRadio);\n",
    "                    image.className = \"img-responsive box-img\";\n",
    "                }}\n",
    "                oldRadio = radioName;\n",
    "            }}\n",
    "        </script>\n",
    "    </body>\n",
    "</html>\n",
    "\"\"\"\n",
    "\n",
    "col = \"\"\"\n",
    "<div class=\"col-xs-6 col-sm-3 col-md-3\">\n",
    "    {0}\n",
    "</div><!--/col-sm-3 -->\n",
    "\"\"\"\n",
    "\n",
    "radio_div = \"\"\"<div class=\"box\">\n",
    "    <img id=\"{1}\" src=\"../{0}\" class=\"img-responsive box-img\" alt=\"radio {1}\" onclick=\"playRadio('{2}', '{1}')\" />\n",
    "</div><!--/box -->\n",
    "\"\"\"\n",
    "\n",
    "video_div = \"\"\"<div class=\"box\">\n",
    "    <img src=\"{0}\" class=\"img-responsive box-img\" alt=\"radio {1}\" />\n",
    "    <video src=\"{2}\" controls=\"controls\"></video>\n",
    "</div><!--/box -->\n",
    "\"\"\""
   ]
  },
  {
   "cell_type": "code",
   "execution_count": 3,
   "metadata": {
    "collapsed": true
   },
   "outputs": [],
   "source": [
    "def read_link(path):\n",
    "    file = open(path, 'r')\n",
    "\n",
    "    while True:\n",
    "        line = file.readline()\n",
    "\n",
    "        # Ignore blank lines\n",
    "        if line == '\\n':\n",
    "            continue\n",
    "\n",
    "        # End of file\n",
    "        if line == '':\n",
    "            break\n",
    "\n",
    "        # Ignore coments\n",
    "        if line.startswith('#'):\n",
    "            continue\n",
    "\n",
    "        link = line\n",
    "\n",
    "    if link.endswith('\\n'):\n",
    "        link = link[:-1]\n",
    "    return link"
   ]
  },
  {
   "cell_type": "code",
   "execution_count": 4,
   "metadata": {
    "collapsed": false
   },
   "outputs": [],
   "source": [
    "# Get all source and image files\n",
    "files = os.listdir('../')\n",
    "links_files = [file for file in files if file.endswith('.m3u')]\n",
    "images = [file for file in files if file.endswith('.tbn')]\n",
    "\n",
    "links_files.sort()\n",
    "images.sort()\n",
    "\n",
    "streamings = [read_link('../' + link) for link in links_files]"
   ]
  },
  {
   "cell_type": "code",
   "execution_count": 5,
   "metadata": {
    "collapsed": false
   },
   "outputs": [],
   "source": [
    "divs = []\n",
    "for image, streaming in zip(images, streamings):\n",
    "\n",
    "    if streaming.startswith('http'):\n",
    "        text = radio_div.format(image, image[:-4], streaming)\n",
    "        divs.append(text)"
   ]
  },
  {
   "cell_type": "code",
   "execution_count": 6,
   "metadata": {
    "collapsed": false
   },
   "outputs": [],
   "source": [
    "rows = ''\n",
    "\n",
    "for cnt, div in enumerate(divs):\n",
    "    if cnt == 0:\n",
    "        rows += '<div class=\"row\">'\n",
    "    elif cnt%4 == 0:\n",
    "        rows += '</div><!--/row -->'\n",
    "        rows += '<div class=\"row\">'\n",
    "\n",
    "    rows += col.format(div)\n",
    "    \n",
    "    if cnt == len(divs):\n",
    "        rows += '</div><!--/row -->'"
   ]
  },
  {
   "cell_type": "code",
   "execution_count": 7,
   "metadata": {
    "collapsed": false
   },
   "outputs": [],
   "source": [
    "# Save the html to file\n",
    "html = html_body.format(rows)\n",
    "\n",
    "with open('index.html', 'w') as file:\n",
    "    for line in html:\n",
    "        file.write(line)"
   ]
  }
 ],
 "metadata": {
  "anaconda-cloud": {},
  "kernelspec": {
   "display_name": "Python [conda root]",
   "language": "python",
   "name": "conda-root-py"
  },
  "language_info": {
   "codemirror_mode": {
    "name": "ipython",
    "version": 3
   },
   "file_extension": ".py",
   "mimetype": "text/x-python",
   "name": "python",
   "nbconvert_exporter": "python",
   "pygments_lexer": "ipython3",
   "version": "3.5.2"
  }
 },
 "nbformat": 4,
 "nbformat_minor": 1
}
