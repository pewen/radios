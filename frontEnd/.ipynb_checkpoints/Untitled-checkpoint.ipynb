{
 "cells": [
  {
   "cell_type": "code",
   "execution_count": 1,
   "metadata": {
    "collapsed": true
   },
   "outputs": [],
   "source": [
    "import os"
   ]
  },
  {
   "cell_type": "code",
   "execution_count": 2,
   "metadata": {
    "collapsed": true
   },
   "outputs": [],
   "source": [
    "html_body = \"\"\"\n",
    "<!DOCTYPE html>\n",
    "<html lang=\"es\">\n",
    "    <head>\n",
    "        <meta charset=\"utf-8\">\n",
    "        <meta http-equiv=\"X-UA-Compatible\" content=\"IE=edge\">\n",
    "        <meta name=\"viewport\" content=\"width=device-width, initial-scale=1\">\n",
    "        <title>Spam</title>\n",
    "        \n",
    "        <!-- Bootstrap CSS -->\n",
    "        <link rel=\"stylesheet\" href=\"./bootstrap-3.3.7-dist/css/bootstrap.min.css\">\n",
    "        <!-- Personal CSS -->\n",
    "        <link rel=\"stylesheet\" href=\"./css/main.css\">\n",
    "    </head>\n",
    "\n",
    "    <body>\n",
    "        <div class=\"container\">\n",
    "        {0}\n",
    "        </div><!--/container -->\n",
    "    </body>\n",
    "</html>\n",
    "\"\"\"\n",
    "\n",
    "col = \"\"\"\n",
    "<div class=\"col-sm-3 col-md-3\">\n",
    "    {0}\n",
    "</div><!--/col-sm-3 -->\n",
    "\"\"\"\n",
    "\n",
    "radio_div = \"\"\"<div class=\"box\">\n",
    "    <img src=\"../{0}\" class=\"img-responsive box-img\" alt=\"radio {1}\" />\n",
    "    <audio src=\"CONTINENTAL_SC.mpga\" controls=\"controls\"></audio>\n",
    "</div><!--/box -->\n",
    "\"\"\""
   ]
  },
  {
   "cell_type": "code",
   "execution_count": 24,
   "metadata": {
    "collapsed": true
   },
   "outputs": [],
   "source": [
    "def read_link(path):\n",
    "    file = open(path, 'r')\n",
    "\n",
    "    while True:\n",
    "        line = file.readline()\n",
    "\n",
    "        # Ignore blank lines\n",
    "        if line == '\\n':\n",
    "            continue\n",
    "\n",
    "        # End of file\n",
    "        if line == '':\n",
    "            break\n",
    "\n",
    "        # Ignore coments\n",
    "        if line.startswith('#'):\n",
    "            continue\n",
    "\n",
    "        link = line\n",
    "\n",
    "    if link.endswith('\\n'):\n",
    "        link = link[:-1]\n",
    "    return link"
   ]
  },
  {
   "cell_type": "code",
   "execution_count": 25,
   "metadata": {
    "collapsed": true
   },
   "outputs": [],
   "source": [
    "# Get all source and image files\n",
    "files = os.listdir('../')\n",
    "links_files = ['../' + file for file in files if file.endswith('.m3u')]\n",
    "images = ['../' + file for file in files if file.endswith('.tbn')]\n",
    "\n",
    "links_files.sort()\n",
    "images.sort()\n",
    "\n",
    "streamings = [read_link(link) for link in links_files]"
   ]
  },
  {
   "cell_type": "code",
   "execution_count": 4,
   "metadata": {
    "collapsed": false
   },
   "outputs": [],
   "source": [
    "divs = []\n",
    "for image, streaming in zip(images, streamings):\n",
    "    text = radio_div.format(tbn, tbn[:-4], m3u)\n",
    "    divs.append(text)"
   ]
  },
  {
   "cell_type": "code",
   "execution_count": 5,
   "metadata": {
    "collapsed": false
   },
   "outputs": [],
   "source": [
    "rows = ''\n",
    "\n",
    "end = False\n",
    "for cnt, div in enumerate(divs):\n",
    "    # End of row\n",
    "    if (cnt%4 == 0) and end:\n",
    "        rows += '</div><!--/row -->'\n",
    "        end = False\n",
    "    \n",
    "    # Start of row\n",
    "    elif cnt%4 == 0:\n",
    "        rows += '<div class=\"row\">'\n",
    "        end = True\n",
    "\n",
    "    rows += col.format(div)\n",
    "    \n",
    "if end:\n",
    "    rows += '</div><!--/row -->'"
   ]
  },
  {
   "cell_type": "code",
   "execution_count": 6,
   "metadata": {
    "collapsed": false
   },
   "outputs": [],
   "source": [
    "html = html_body.format(rows)\n",
    "\n",
    "with open('frontEnd/index.html', 'w') as file:\n",
    "    for line in html:\n",
    "        file.write(line)"
   ]
  },
  {
   "cell_type": "code",
   "execution_count": null,
   "metadata": {
    "collapsed": true
   },
   "outputs": [],
   "source": []
  }
 ],
 "metadata": {
  "anaconda-cloud": {},
  "kernelspec": {
   "display_name": "Python [conda root]",
   "language": "python",
   "name": "conda-root-py"
  },
  "language_info": {
   "codemirror_mode": {
    "name": "ipython",
    "version": 3
   },
   "file_extension": ".py",
   "mimetype": "text/x-python",
   "name": "python",
   "nbconvert_exporter": "python",
   "pygments_lexer": "ipython3",
   "version": "3.5.2"
  }
 },
 "nbformat": 4,
 "nbformat_minor": 1
}
